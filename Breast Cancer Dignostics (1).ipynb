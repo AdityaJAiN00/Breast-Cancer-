input_data = {12.45,15.7,82.57,477.1,0.1278,0.17,0.1578,0.08089,0.2087,0.07613,0.3345,0.8902,2.217,27.19,0.00751,0.03345,0.03672,0.01137,0.02165,0.005082,15.47,23.75,103.4,741.6,0.1791,0.5249,0.5355,0.1741,0.3985,0.1244}

input_data_as_numpy= np.asarray(input_data)

input_data_reshaped=input_data_as_numpy.reshape(1,-1)

prediction = model1.predict(input_data_reshaped)
print(prediction)
